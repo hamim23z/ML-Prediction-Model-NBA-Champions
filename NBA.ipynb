{
 "cells": [
  {
   "cell_type": "code",
   "execution_count": 29,
   "id": "0e28a839-04af-4183-8202-fc7b8f6210c0",
   "metadata": {},
   "outputs": [],
   "source": [
    "#all the imports\n",
    "import pandas as pd\n",
    "import numpy as np\n",
    "from collections import defaultdict\n",
    "\n",
    "from sklearn.model_selection import train_test_split\n",
    "from sklearn.ensemble import RandomForestClassifier\n",
    "from sklearn.metrics import accuracy_score"
   ]
  },
  {
   "cell_type": "code",
   "execution_count": 30,
   "id": "ef0cb4ca-6638-4733-828a-0726c34ec471",
   "metadata": {},
   "outputs": [
    {
     "name": "stdout",
     "output_type": "stream",
     "text": [
      "Raw columns: Index(['id', 'matchup', 'year', 'winner', 'runnerup', 'finalscore',\n",
      "       'easternConfRunnerUp', 'westernConfRunnerUp'],\n",
      "      dtype='object')\n",
      "Data sample:\n",
      "   id                                           matchup     year  \\\n",
      "0   0       2023/24 — Boston Celtics v Dallas Mavericks  2023/24   \n",
      "1   1             2022/23 — Denver Nuggets v Miami Heat  2022/23   \n",
      "2   2  2021/22 — Golden State Warriors v Boston Celtics  2021/22   \n",
      "3   3          2020/21 — Milwaukee Bucks v Phoenix Suns  2020/21   \n",
      "4   4         2019/20 — Los Angeles Lakers v Miami Heat  2019/20   \n",
      "\n",
      "                  winner          runnerup finalscore easternConfRunnerUp  \\\n",
      "0         Boston Celtics  Dallas Mavericks        4/1      Indiana Pacers   \n",
      "1         Denver Nuggets        Miami Heat        4/1      Boston Celtics   \n",
      "2  Golden State Warriors    Boston Celtics        4/2          Miami Heat   \n",
      "3        Milwaukee Bucks      Phoenix Suns        4/2       Atlanta Hawks   \n",
      "4     Los Angeles Lakers        Miami Heat        4/2      Boston Celtics   \n",
      "\n",
      "      westernConfRunnerUp  \n",
      "0  Minnesota Timberwolves  \n",
      "1      Los Angeles Lakers  \n",
      "2        Dallas Mavericks  \n",
      "3    Los Angeles Clippers  \n",
      "4          Denver Nuggets  \n"
     ]
    }
   ],
   "source": [
    "#loading the csv file from my directory\n",
    "df = pd.read_csv(\"/Users/hamimc/Documents/Datasets/NBA-Champions-ONLY/nba_championships_since46.csv\")\n",
    "\n",
    "#had to clean column names bc i had the extra whitespace which was causing issues\n",
    "df.columns = df.columns.str.strip()\n",
    "\n",
    "#printing out and visualizing\n",
    "print(\"Raw columns:\", df.columns)\n",
    "print(\"Data sample:\")\n",
    "print(df.head())"
   ]
  },
  {
   "cell_type": "code",
   "execution_count": 31,
   "id": "48f24ece-6279-4e55-bda1-17a890185e8c",
   "metadata": {},
   "outputs": [
    {
     "name": "stdout",
     "output_type": "stream",
     "text": [
      "      year  season_end\n",
      "0  2023/24        2024\n",
      "1  2022/23        2023\n",
      "2  2021/22        2022\n",
      "3  2020/21        2021\n",
      "4  2019/20        2020\n",
      "5  2018/19        2019\n",
      "6  2017/18        2018\n",
      "7  2016/17        2017\n",
      "8  2015/16        2016\n",
      "9  2014/15        2015\n"
     ]
    }
   ],
   "source": [
    "#the years on this csv file are written weirdly (2023/24) and it would be hard to train a model like that, so I made a function that would\n",
    "#convert the year into the season_end. For example the 2023/24 season would just be 2024 since the season ended in June 2024. \n",
    "def fix_year(x):\n",
    "    last = int(str(x).split('/')[-1])\n",
    "    return 2000 + last if last < 50 else 1900 + last\n",
    "\n",
    "df['season_end'] = df['year'].apply(fix_year)\n",
    "\n",
    "#better to keep 1990+ years\n",
    "df = df[df['season_end'] >= 1990].reset_index(drop=True)\n",
    "print(df[['year','season_end']].head(10))"
   ]
  },
  {
   "cell_type": "code",
   "execution_count": 32,
   "id": "b80e1ebe-30d6-433e-9af0-3b919970e404",
   "metadata": {},
   "outputs": [
    {
     "name": "stdout",
     "output_type": "stream",
     "text": [
      "Filtered data (modern teams only):\n",
      "   id                                           matchup     year  \\\n",
      "0   0       2023/24 — Boston Celtics v Dallas Mavericks  2023/24   \n",
      "1   1             2022/23 — Denver Nuggets v Miami Heat  2022/23   \n",
      "2   2  2021/22 — Golden State Warriors v Boston Celtics  2021/22   \n",
      "3   3          2020/21 — Milwaukee Bucks v Phoenix Suns  2020/21   \n",
      "4   4         2019/20 — Los Angeles Lakers v Miami Heat  2019/20   \n",
      "\n",
      "                  winner          runnerup finalscore easternConfRunnerUp  \\\n",
      "0         Boston Celtics  Dallas Mavericks        4/1      Indiana Pacers   \n",
      "1         Denver Nuggets        Miami Heat        4/1      Boston Celtics   \n",
      "2  Golden State Warriors    Boston Celtics        4/2          Miami Heat   \n",
      "3        Milwaukee Bucks      Phoenix Suns        4/2       Atlanta Hawks   \n",
      "4     Los Angeles Lakers        Miami Heat        4/2      Boston Celtics   \n",
      "\n",
      "      westernConfRunnerUp  season_end  \n",
      "0  Minnesota Timberwolves        2024  \n",
      "1      Los Angeles Lakers        2023  \n",
      "2        Dallas Mavericks        2022  \n",
      "3    Los Angeles Clippers        2021  \n",
      "4          Denver Nuggets        2020  \n"
     ]
    }
   ],
   "source": [
    "#at first I did not have this, but when I ran the ML model first, it had the Syracuse Nationals and the New Jersey Nets winning during some\n",
    "#years and that didn't make sense because some of these teams a) don't exist anymore or b) renamed. So I had to remove them and not include\n",
    "#them in the ML model. \n",
    "outdated_teams = [\n",
    "    \"St.Louis Hawks\", \"Washington Bullets\", \"Syracuse Nationals\", \"Indianapolis Olympians\",\n",
    "    \"Anderson Packers\", \"Rochester Royals\", \"Chicago Stags\", \"St.Louis Bombers\",\n",
    "    \"Ft.Wayne Pistons\", \"Baltimore Bullets\", \"Minneapolis Lakers\", \"San Francisco Warriors\",\n",
    "    \"Seattle Supersonics\", \"Kansas City Kings\", \"New Jersey Nets\"\n",
    "]\n",
    "\n",
    "mask = ~df[['winner','runnerup','easternConfRunnerUp','westernConfRunnerUp']].isin(outdated_teams).any(axis=1)\n",
    "df = df[mask].reset_index(drop=True)\n",
    "\n",
    "print(\"Filtered data (modern teams only):\")\n",
    "print(df.head())"
   ]
  },
  {
   "cell_type": "code",
   "execution_count": 33,
   "id": "d7559730-cea1-414c-8dbe-52ca5a98a55b",
   "metadata": {},
   "outputs": [
    {
     "name": "stdout",
     "output_type": "stream",
     "text": [
      "Feature sample:\n",
      "   year                    team  past_championships  past_finals  \\\n",
      "0  2024          Boston Celtics                   0            0   \n",
      "1  2024        Dallas Mavericks                   0            0   \n",
      "2  2024          Indiana Pacers                   0            0   \n",
      "3  2024  Minnesota Timberwolves                   0            0   \n",
      "4  2023          Denver Nuggets                   0            0   \n",
      "5  2023              Miami Heat                   0            0   \n",
      "6  2023          Boston Celtics                   1            1   \n",
      "7  2023      Los Angeles Lakers                   0            0   \n",
      "8  2022   Golden State Warriors                   0            0   \n",
      "9  2022          Boston Celtics                   1            1   \n",
      "\n",
      "   past_conference_finals  champion  \n",
      "0                       0         1  \n",
      "1                       0         0  \n",
      "2                       0         0  \n",
      "3                       0         0  \n",
      "4                       0         1  \n",
      "5                       0         0  \n",
      "6                       1         0  \n",
      "7                       0         0  \n",
      "8                       0         1  \n",
      "9                       2         0  \n"
     ]
    }
   ],
   "source": [
    "#the csv file that i found on Kaggle and edited is too bland to actually make solid predictions, there aren't enough csv files with other\n",
    "#pieces of information such as player ratings, impact, injuries, etc. this is just a csv file of past championship matchups + eastern and \n",
    "#western conference runner ups. so these are just some features I added to help with the prediction model. \n",
    "championships = defaultdict(int)\n",
    "finals_appearances = defaultdict(int)\n",
    "conference_appearances = defaultdict(int)\n",
    "\n",
    "records = []\n",
    "\n",
    "for _, row in df.iterrows():\n",
    "    year = row['season_end']\n",
    "    winner = row['winner']\n",
    "    runnerup = row['runnerup']\n",
    "    east_ru = row['easternConfRunnerUp']\n",
    "    west_ru = row['westernConfRunnerUp']\n",
    "    \n",
    "    for team in [winner, runnerup, east_ru, west_ru]:\n",
    "        records.append({\n",
    "            'year': year,\n",
    "            'team': team,\n",
    "            'past_championships': championships[team],\n",
    "            'past_finals': finals_appearances[team],\n",
    "            'past_conference_finals': conference_appearances[team],\n",
    "            'champion': 1 if team == winner else 0\n",
    "        })\n",
    "    \n",
    "    #update counters for champs and appearances\n",
    "    championships[winner] += 1\n",
    "    finals_appearances[winner] += 1\n",
    "    finals_appearances[runnerup] += 1\n",
    "    conference_appearances[winner] += 1\n",
    "    conference_appearances[runnerup] += 1\n",
    "    conference_appearances[east_ru] += 1\n",
    "    conference_appearances[west_ru] += 1\n",
    "\n",
    "features_df = pd.DataFrame(records)\n",
    "\n",
    "print(\"Feature sample:\")\n",
    "print(features_df.head(10))"
   ]
  },
  {
   "cell_type": "code",
   "execution_count": 34,
   "id": "7d0b5f77-8461-452b-800c-83ae89901f1c",
   "metadata": {},
   "outputs": [
    {
     "name": "stdout",
     "output_type": "stream",
     "text": [
      "X shape: (124, 3)\n",
      "y distribution:\n",
      " champion\n",
      "0    93\n",
      "1    31\n",
      "Name: count, dtype: int64\n"
     ]
    }
   ],
   "source": [
    "X = features_df[['past_championships','past_finals','past_conference_finals']]\n",
    "y = features_df['champion']\n",
    "\n",
    "print(\"X shape:\", X.shape)\n",
    "print(\"y distribution:\\n\", y.value_counts())"
   ]
  },
  {
   "cell_type": "code",
   "execution_count": 35,
   "id": "781c543c-f2de-49e7-a2a6-ff94437e7567",
   "metadata": {},
   "outputs": [
    {
     "name": "stdout",
     "output_type": "stream",
     "text": [
      "Accuracy on holdout set: 0.68\n"
     ]
    }
   ],
   "source": [
    "X_train, X_test, y_train, y_test = train_test_split(X, y, test_size=0.2, shuffle=False)\n",
    "\n",
    "model = RandomForestClassifier(n_estimators=200, random_state=42)\n",
    "model.fit(X_train, y_train)\n",
    "\n",
    "y_pred = model.predict(X_test)\n",
    "print(\"Accuracy on holdout set:\", accuracy_score(y_test, y_pred))"
   ]
  },
  {
   "cell_type": "code",
   "execution_count": 36,
   "id": "2dc4def9-a8db-460b-bfd2-a6e6665a02db",
   "metadata": {},
   "outputs": [
    {
     "name": "stdout",
     "output_type": "stream",
     "text": [
      "🏆 Predicted NBA Champions from 2026-2050:\n",
      "2026 -> Miami Heat\n",
      "2027 -> Memphis Grizzlies\n",
      "2028 -> Los Angeles Lakers\n",
      "2029 -> Orlando Magic\n",
      "2030 -> Cleveland Cavaliers\n",
      "2031 -> Oklahoma City Thunder\n",
      "2032 -> Detroit Pistons\n",
      "2033 -> Cleveland Cavaliers\n",
      "2034 -> Utah Jazz\n",
      "2035 -> Portland Trailblazers\n",
      "2036 -> Boston Celtics\n",
      "2037 -> Golden State Warriors\n",
      "2038 -> Memphis Grizzlies\n",
      "2039 -> Portland Trailblazers\n",
      "2040 -> Phoenix Suns\n",
      "2041 -> Dallas Mavericks\n",
      "2042 -> Orlando Magic\n",
      "2043 -> San Antonio Spurs\n",
      "2044 -> Detroit Pistons\n",
      "2045 -> Toronto Raptors\n",
      "2046 -> Detroit Pistons\n",
      "2047 -> Utah Jazz\n",
      "2048 -> Indiana Pacers\n",
      "2049 -> Boston Celtics\n",
      "2050 -> Houston Rockets\n"
     ]
    }
   ],
   "source": [
    "#to fix the model and make it more realistic (because when I ran this the second time, it said the Los Angeles Lakers would win every\n",
    "#single championship from 2027-2050). I needed to make a weighting factor, in this case the years. I chose 10. \n",
    "RECENCY_YEARS = 10\n",
    "\n",
    "latest_year = features_df['year'].max()\n",
    "teams = [t for t in features_df['team'].unique() if t not in outdated_teams]\n",
    "\n",
    "team_champ_years = defaultdict(list)\n",
    "for _, row in df.iterrows():\n",
    "    team_champ_years[row['winner']].append(row['season_end'])\n",
    "\n",
    "future_predictions = []\n",
    "\n",
    "for i in range(2, 27):\n",
    "    year = latest_year + i\n",
    "    season_data = []\n",
    "    \n",
    "    for team in teams:\n",
    "        past_years = team_champ_years[team]\n",
    "        recency_score = sum([max(0, 1 - (year - y)/RECENCY_YEARS) for y in past_years])\n",
    "        \n",
    "        season_data.append({\n",
    "            'year': year,\n",
    "            'team': team,\n",
    "            'past_championships': recency_score,\n",
    "            'past_finals': finals_appearances[team],\n",
    "            'past_conference_finals': conference_appearances[team]\n",
    "        })\n",
    "    \n",
    "    season_df = pd.DataFrame(season_data)\n",
    "    X_future = season_df[['past_championships','past_finals','past_conference_finals']]\n",
    "    probs = model.predict_proba(X_future)[:,1]\n",
    "    \n",
    "    winner = np.random.choice(season_df['team'], p=probs/probs.sum())\n",
    "    future_predictions.append((year, winner))\n",
    "    \n",
    "    championships[winner] += 1\n",
    "    finals_appearances[winner] += 1\n",
    "    conference_appearances[winner] += 1\n",
    "    team_champ_years[winner].append(year)\n",
    "\n",
    "print(\"🏆 Predicted NBA Champions from 2026-2050:\")\n",
    "for year, champ in future_predictions:\n",
    "    print(year, \"->\", champ)"
   ]
  },
  {
   "cell_type": "code",
   "execution_count": null,
   "id": "f80ed6e5-abe4-465b-8a7c-4d6f3c4037ac",
   "metadata": {},
   "outputs": [],
   "source": []
  }
 ],
 "metadata": {
  "kernelspec": {
   "display_name": "Python 3 (ipykernel)",
   "language": "python",
   "name": "python3"
  },
  "language_info": {
   "codemirror_mode": {
    "name": "ipython",
    "version": 3
   },
   "file_extension": ".py",
   "mimetype": "text/x-python",
   "name": "python",
   "nbconvert_exporter": "python",
   "pygments_lexer": "ipython3",
   "version": "3.9.6"
  }
 },
 "nbformat": 4,
 "nbformat_minor": 5
}
